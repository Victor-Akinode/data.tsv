{
 "cells": [
  {
   "cell_type": "code",
   "execution_count": 13,
   "id": "e968ba0d",
   "metadata": {},
   "outputs": [],
   "source": [
    "\n",
    "import csv\n",
    "\n",
    "# first import the libraries\n",
    "import pandas as pd\n",
    "   \n",
    "# Create a dataFrame using dictionary\n",
    "\n",
    "\n",
    "df = pd.read_csv('data2.tsv', sep='\\t')\n",
    "\n",
    "        \n",
    "dict_file_to_new_id = {}\n",
    "N = df.shape[0]\n",
    "\n",
    "list_text= []\n",
    "with open('newdata.tsv', 'w', encoding= 'utf8') as external_file:\n",
    "    for i in range(N):\n",
    "\n",
    "\n",
    "        filename= df['filename'].iloc[i]\n",
    "        transcript = df['transcript'].iloc[i]\n",
    "\n",
    "        if i <=9 :\n",
    "            new_file_name = 'yor_000'+str(i)\n",
    "\n",
    "        elif i>9 and i<100:\n",
    "            new_file_name = 'yor_00'+str(i)\n",
    "\n",
    "        elif i>100 and i<999:\n",
    "            new_file_name = 'yor_0'+str(i)\n",
    "\n",
    "        else:\n",
    "            new_file_name = 'yor_'+str(i)\n",
    "\n",
    "        dict_file_to_new_id[filename] = new_file_name\n",
    "\n",
    "        text_output = '(' + new_file_name + \" \" + '\"' + transcript + '\"' + ')'\n",
    "\n",
    "\n",
    "        external_file.write(text_output+'\\n')\n",
    "#         external_file.close()\n",
    "\n",
    "\n",
    "\n",
    "\n"
   ]
  },
  {
   "cell_type": "code",
   "execution_count": null,
   "id": "5c482916",
   "metadata": {},
   "outputs": [],
   "source": []
  },
  {
   "cell_type": "code",
   "execution_count": null,
   "id": "af97f0bd",
   "metadata": {},
   "outputs": [],
   "source": []
  }
 ],
 "metadata": {
  "kernelspec": {
   "display_name": "Python 3 (ipykernel)",
   "language": "python",
   "name": "python3"
  },
  "language_info": {
   "codemirror_mode": {
    "name": "ipython",
    "version": 3
   },
   "file_extension": ".py",
   "mimetype": "text/x-python",
   "name": "python",
   "nbconvert_exporter": "python",
   "pygments_lexer": "ipython3",
   "version": "3.7.11"
  }
 },
 "nbformat": 4,
 "nbformat_minor": 5
}
